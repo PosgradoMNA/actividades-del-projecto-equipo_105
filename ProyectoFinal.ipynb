{
  "nbformat": 4,
  "nbformat_minor": 0,
  "metadata": {
    "colab": {
      "provenance": [],
      "include_colab_link": true
    },
    "kernelspec": {
      "name": "python3",
      "display_name": "Python 3"
    },
    "language_info": {
      "name": "python"
    }
  },
  "cells": [
    {
      "cell_type": "markdown",
      "metadata": {
        "id": "view-in-github",
        "colab_type": "text"
      },
      "source": [
        "<a href=\"https://colab.research.google.com/github/PosgradoMNA/actividades-del-projecto-equipo_105/blob/main/ProyectoFinal.ipynb\" target=\"_parent\"><img src=\"https://colab.research.google.com/assets/colab-badge.svg\" alt=\"Open In Colab\"/></a>"
      ]
    },
    {
      "cell_type": "markdown",
      "source": [
        "#Proyecto Final ciencia y análitica de datos (Yocelín Juárez - Juan Pablo Acosta)\n",
        "\n",
        "\n",
        "\n",
        "\n",
        "\n"
      ],
      "metadata": {
        "id": "vm_JI5kmcZ1e"
      }
    },
    {
      "cell_type": "markdown",
      "source": [
        "##Redacción de una página, en jupyter notebook, como máximo que incluya lo siguiente:\n",
        "\n",
        "\n",
        "\n",
        "1.   El nombre que caracteriza el conjunto de datos: Base de datos Económicos y ambientales por país HOLA JUAN :)\n",
        "\n",
        "2.   La organización que lo generó. \"The World Bank\" https://data.worldbank.org/indicator - (Falta archivo de Excel)\n",
        "\n",
        "1.   Describe el conjunto de datos. ¿Qué datos contiene? Conjunto de datos públicos por país de caracter económico y ambientales, hay registro de datos desde 1960 hasta el 2021, sin embargo, no todos los años tienen información de todos los países.\n",
        "\n",
        "2.   ¿Cuáles son algunas de las preguntas de investigación que podría responder con estos datos? Enumere al menos OCHO (no responda las preguntas).\n",
        "\n",
        "        a) ¿Qué tan relacionado está realmente la huella de carbono de cada país en relación a la población?\n",
        "\n",
        "        b) ¿Qué tanto efecto tiene la infraestructura y urbanización en la huella de carbono?\n",
        "\n",
        "        c) ¿Qué países han invertido más en energías limpias en los últimos 20 años?\n",
        "        d) ¿Hay alguna relación entra la desigualdad y \n",
        "\n",
        "1.  ¿Qué actor (empresa, sector de la sociedad, organismo descentralizado, gobierno, etc.) estaría interesado en las preguntas mencionadas que identificó?\n",
        "\n",
        "\n",
        "\n",
        "\n",
        "\n",
        "        "
      ],
      "metadata": {
        "id": "8SrUp9N7fcCC"
      }
    }
  ]
}