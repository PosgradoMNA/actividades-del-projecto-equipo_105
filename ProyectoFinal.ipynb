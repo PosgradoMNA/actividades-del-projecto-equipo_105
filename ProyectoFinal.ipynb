{
  "nbformat": 4,
  "nbformat_minor": 0,
  "metadata": {
    "colab": {
      "provenance": [],
      "include_colab_link": true
    },
    "kernelspec": {
      "name": "python3",
      "display_name": "Python 3"
    },
    "language_info": {
      "name": "python"
    }
  },
  "cells": [
    {
      "cell_type": "markdown",
      "metadata": {
        "id": "view-in-github",
        "colab_type": "text"
      },
      "source": [
        "<a href=\"https://colab.research.google.com/github/PosgradoMNA/actividades-del-projecto-equipo_105/blob/main/ProyectoFinal.ipynb\" target=\"_parent\"><img src=\"https://colab.research.google.com/assets/colab-badge.svg\" alt=\"Open In Colab\"/></a>"
      ]
    },
    {
      "cell_type": "markdown",
      "source": [
        "#Proyecto Final ciencia y análitica de datos (Yocelín Juárez - Juan Pablo Acosta)\n",
        "\n",
        "\n",
        "\n",
        "\n",
        "\n"
      ],
      "metadata": {
        "id": "vm_JI5kmcZ1e"
      }
    },
    {
      "cell_type": "markdown",
      "source": [
        "##Redacción de una página, en jupyter notebook, como máximo que incluya lo siguiente:\n",
        "\n",
        "\n",
        "\n",
        "1.   ***El nombre que caracteriza el conjunto de datos:*** Base de datos Económicos y ambientales por país\n",
        "\n",
        "2.   ***La organización que lo generó.*** \"The World Bank\" https://data.worldbank.org/indicator - \n",
        "El Banco Mundial es una organización de alcance global la cual se encarga de proveer estudios financieros, asesoria y datos a las naciones con el fin de contribuir a su desarrollo económico, es una fuente confieble en donde los datos son optenidos bajo estandares profesionales.\n",
        "\n",
        "1.   ***Describe el conjunto de datos. ¿Qué datos contiene?*** Conjunto de datos públicos por país de caracter económico y ambientales, hay registro de datos desde 1960 hasta el 2021, sin embargo, no todos los años tienen información de todos los países, por lo que nuestro reporte final contendrá dichas observaciones y consideraciones. Lon datos vienen de uns fuente confiable, en donde podemos encontrar datos en series cronológicas, por lo que hemos decidido que nuestra llave sea el año.\n",
        "\n",
        "2.   ***¿Cuáles son algunas de las preguntas de investigación que podría responder con estos datos? Enumere al menos OCHO (no responda las preguntas).***\n",
        "\n",
        "        a) ¿Qué tan relacionado está realmente la huella de carbono de cada país en relación a la población?\n",
        "\n",
        "        b) ¿Qué tanto efecto tiene la infraestructura y urbanización en la huella de carbono?\n",
        "\n",
        "        c) ¿Qué países han invertido más en energías limpias en los últimos 20 años?\n",
        "\n",
        "        d) ¿Hay alguna relación entra la desigualdad de un país y la huella de carbono?\n",
        "\n",
        "        e) ¿Hay alguna relación entre el presupuesto destinado a la educación y la huella de carbono de cada país?\n",
        "\n",
        "        f) ¿Un porcentaje mayor de uso de energías renovables de un país realmente tiene un impacto en la huella de carbono del mismo?\n",
        "\n",
        "        g) ¿El porcentaje de urbanización tiene algún impacto en la cantidad de emisiones de CO2?\n",
        "\n",
        "        h) ¿Es la densidad poblacional de una pais un factor determinante respecto a las emisiones de C02 y contaminación del aire en PM2.5?\n",
        "\n",
        "1.  ***¿Qué actor (empresa, sector de la sociedad, organismo descentralizado, gobierno, etc.) estaría interesado en las preguntas mencionadas que identificó?*** La secretaría del medio ambiente debería de estar interesado en hacerse este tipo de cuestionamientos para poder hacer proyecciones a futuro de la huella de carbono que podría generar al país, de igual manera, conociendo las variables que más estén relacionadas proporcialmente a la huella de carbono, el gobierno puede llevar a cabo acciones preventivas que mejoren las proyecciones a futuro.\n",
        "El sector de la industria privada también puede tomar desiciones basadas en los resultados sobre en que tipo de proyectos invertir y que enfoque darle a estos. \n",
        "Así mismo el estudio es de interés general de los civiles, pues aunque el gobierno es el encargado de crear políticas públicas que puedan crear cambios significativos, son los ciudadanos los que dan impulso a este tipo de discusiones.\n",
        "\n",
        "\n",
        "\n",
        "\n",
        "\n",
        "        "
      ],
      "metadata": {
        "id": "8SrUp9N7fcCC"
      }
    }
  ]
}