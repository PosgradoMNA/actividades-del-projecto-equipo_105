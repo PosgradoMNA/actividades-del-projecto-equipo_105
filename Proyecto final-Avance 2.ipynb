{
  "cells": [
    {
      "cell_type": "markdown",
      "metadata": {
        "id": "view-in-github",
        "colab_type": "text"
      },
      "source": [
        "<a href=\"https://colab.research.google.com/github/PosgradoMNA/actividades-del-projecto-equipo_105/blob/main/Proyecto%20final-Avance%202.ipynb\" target=\"_parent\"><img src=\"https://colab.research.google.com/assets/colab-badge.svg\" alt=\"Open In Colab\"/></a>"
      ]
    },
    {
      "cell_type": "markdown",
      "source": [
        "#Proyecto final - Avance 2\n",
        "Para este proyecto hemos tomado la decisión de usar la Metodología CRISP DM."
      ],
      "metadata": {
        "id": "5BWKLnwI7byQ"
      }
    },
    {
      "cell_type": "markdown",
      "source": [
        "#Busesiness Understanding\n",
        "Esta es la primera fase de la metodología la cual se basa en no sólo la comprensión del caso, sino tambien definir claramente nuestros objetivo y cuales son las metricas de aceptación que se usarán en la evaluación final. \n",
        "Este es un paso muy importante, y para llevarlo acabo de manera exitosa tenemos que tener en cuenta como el proyecto generará valor para las partes involugradas."
      ],
      "metadata": {
        "id": "JwNi0bZo8O9S"
      }
    },
    {
      "cell_type": "markdown",
      "source": [
        "#Data Understanding\n",
        "En esta etapa los datos disponibles de examinan, en donde se hace una indagación respecto a su proesabilidad, calidad y contenido.\n",
        "El objetivo de esta fase es determinar si existe una viabilidad técnica para el uso de los datos, así como para adquirir un panorama global respecto a que cuestionamientos, problematicas o valor se puede obtener de ellos."
      ],
      "metadata": {
        "id": "1Md2BYw69DLC"
      }
    },
    {
      "cell_type": "markdown",
      "source": [
        "#Data Preparation\n",
        "La preparación de los datos puede llegar a ser la parte más larga del proyecto, y esta consta de tres partes principales, estas fases son la implementación técnica de la teoría definida en las fases previas, son:\n",
        "\n",
        "\n",
        "1.   la selcción y consolidación de datos:\n",
        "Aquí reunimos las fuentes de datos disponibles de manera significativa de acuerdo con la compresión de los mismos. \n",
        "2.   Limpieza de datos:\n",
        "En donde el objetivo es liberar lo datos de la baja calidad de los mismos, ya que los valores atípicos, los datos faltantes y los datos incorrectos, tienen una fuerte influencia en la calidad del modelo. \n",
        "3.   Ingeniería de funciones:\n",
        "En este paso las variables significativas se construyen a partir de los datos preparados.  Estas variables construidas se basan en las experiencias realizadas en la fase de \"Data understanding\".\n",
        "\n",
        " "
      ],
      "metadata": {
        "id": "zcUWbZ3--Jx4"
      }
    }
  ],
  "metadata": {
    "colab": {
      "collapsed_sections": [],
      "name": "Te damos la bienvenida a Colaboratory",
      "toc_visible": true,
      "provenance": [],
      "include_colab_link": true
    },
    "kernelspec": {
      "display_name": "Python 3",
      "name": "python3"
    }
  },
  "nbformat": 4,
  "nbformat_minor": 0
}